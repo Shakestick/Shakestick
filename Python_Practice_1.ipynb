{
  "nbformat": 4,
  "nbformat_minor": 0,
  "metadata": {
    "colab": {
      "name": "Python Practice 1.ipynb",
      "provenance": [],
      "authorship_tag": "ABX9TyOgvLFSRB31WllW9NlkOaj7",
      "include_colab_link": true
    },
    "kernelspec": {
      "name": "python3",
      "display_name": "Python 3"
    },
    "language_info": {
      "name": "python"
    }
  },
  "cells": [
    {
      "cell_type": "markdown",
      "metadata": {
        "id": "view-in-github",
        "colab_type": "text"
      },
      "source": [
        "<a href=\"https://colab.research.google.com/github/Shakestick/Shakestick/blob/main/Python_Practice_1.ipynb\" target=\"_parent\"><img src=\"https://colab.research.google.com/assets/colab-badge.svg\" alt=\"Open In Colab\"/></a>"
      ]
    },
    {
      "cell_type": "code",
      "metadata": {
        "id": "qpHIRcffn2aU",
        "colab": {
          "base_uri": "https://localhost:8080/"
        },
        "outputId": "f3b5962d-7e8b-4dda-d93f-ad2d1b48168e"
      },
      "source": [
        "import numpy as np\n",
        "import random \n",
        "np.random.seed(42)\n",
        "output = np.random.binomial(n = 100, p = 0.1)\n",
        "print(output)"
      ],
      "execution_count": 3,
      "outputs": [
        {
          "output_type": "stream",
          "name": "stdout",
          "text": [
            "9\n"
          ]
        }
      ]
    },
    {
      "cell_type": "code",
      "metadata": {
        "colab": {
          "base_uri": "https://localhost:8080/"
        },
        "id": "4tX0K7PCYv7a",
        "outputId": "d49fa6a4-499e-4204-a211-1ca0a448bc06"
      },
      "source": [
        "np.random.seed(42)\n",
        "samples = np.random.normal(7, 0.5, size = 10000)\n",
        "print(samples[:5])"
      ],
      "execution_count": 19,
      "outputs": [
        {
          "output_type": "stream",
          "name": "stdout",
          "text": [
            "[7.24835708 6.93086785 7.32384427 7.76151493 6.88292331]\n"
          ]
        }
      ]
    },
    {
      "cell_type": "code",
      "metadata": {
        "id": "24RAi2wtgrih"
      },
      "source": [
        ""
      ],
      "execution_count": 20,
      "outputs": []
    }
  ]
}